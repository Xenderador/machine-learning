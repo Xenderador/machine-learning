{
 "cells": [
  {
   "cell_type": "code",
   "execution_count": 1,
   "metadata": {},
   "outputs": [],
   "source": [
    "import cv2\n",
    "import os\n",
    "import time\n",
    "import uuid"
   ]
  },
  {
   "cell_type": "code",
   "execution_count": 2,
   "metadata": {},
   "outputs": [],
   "source": [
    "# Specify the path where the images will be saved\n",
    "IMAGES_PATH = 'Tensorflow/workspace/images/collectedimages'"
   ]
  },
  {
   "cell_type": "code",
   "execution_count": 3,
   "metadata": {},
   "outputs": [],
   "source": [
    "#Assuming labels is a list of labels\n",
    "labels = ['hello' , 'thanks' , 'yes' , 'no' , 'iloveyou']\n",
    "number_imgs =15"
   ]
  },
  {
   "cell_type": "code",
   "execution_count": 11,
   "metadata": {},
   "outputs": [
    {
     "ename": "IndentationError",
     "evalue": "unindent does not match any outer indentation level (<tokenize>, line 28)",
     "output_type": "error",
     "traceback": [
      "\u001b[0;36m  File \u001b[0;32m<tokenize>:28\u001b[0;36m\u001b[0m\n\u001b[0;31m    cap.release()\u001b[0m\n\u001b[0m    ^\u001b[0m\n\u001b[0;31mIndentationError\u001b[0m\u001b[0;31m:\u001b[0m unindent does not match any outer indentation level\n"
     ]
    }
   ],
   "source": [
    "#Create directories for each label\n",
    "for label in labels:\n",
    "    os.mkdir('Tensorflow\\workspace\\images\\collectedimages\\\\'+label)\n",
    "\n",
    "    #Open the video capture\n",
    "    cap = cv2.VideoCapture(0)\n",
    "\n",
    "    print('Collected images for {}'.format(label))\n",
    "    time.sleep(5)\n",
    "\n",
    "    #Collect the specified number of images for the label\n",
    "    for imgnum in range(number_imgs):\n",
    "        ret, framew = cap.read()\n",
    "\n",
    "        #Generate a unique image name\n",
    "        imgname = os.path.join(IMAGES_PATH, label, label+'.'+'{}.jpg'.format(str(uuid.uuid1())))\n",
    "\n",
    "        #Save the image\n",
    "        cv2.imwrite(imgname, frame)\n",
    "\n",
    "        cv2.imshow('frame',frame)\n",
    "        time.sleep(2)\n",
    "        \n",
    "        if cv2.waitkey(1) & 0xFF == ord('q'):\n",
    "            break\n",
    "\n",
    "     #Release the video capture   \n",
    "     cap.release() \n",
    "    \n",
    "#Close all OpenCV windows\n",
    "cv2.destroyAllWindows()    "
   ]
  },
  {
   "cell_type": "code",
   "execution_count": null,
   "metadata": {},
   "outputs": [],
   "source": []
  }
 ],
 "metadata": {
  "kernelspec": {
   "display_name": "Python 3",
   "language": "python",
   "name": "python3"
  },
  "language_info": {
   "codemirror_mode": {
    "name": "ipython",
    "version": 3
   },
   "file_extension": ".py",
   "mimetype": "text/x-python",
   "name": "python",
   "nbconvert_exporter": "python",
   "pygments_lexer": "ipython3",
   "version": "3.10.6"
  },
  "orig_nbformat": 4
 },
 "nbformat": 4,
 "nbformat_minor": 2
}
