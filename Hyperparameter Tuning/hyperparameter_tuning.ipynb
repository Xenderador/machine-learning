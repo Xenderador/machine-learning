{
 "cells": [
  {
   "cell_type": "markdown",
   "metadata": {},
   "source": [
    "<h1>Hyperparameter Tuning</h1>"
   ]
  },
  {
   "cell_type": "markdown",
   "metadata": {},
   "source": [
    "<h2>1. Randomized SearchCV</h2>"
   ]
  },
  {
   "cell_type": "code",
   "execution_count": 1,
   "metadata": {},
   "outputs": [],
   "source": [
    "from sklearn.model_selection import RandomizedSearchCV \n",
    "from sklearn.ensemble import RandomForestClassifier \n",
    "from sklearn.datasets import load_iris\n",
    "import numpy as np\n",
    "\n",
    "# Load iris dataset\n",
    "iris = load_iris() \n",
    "X = iris.data\n",
    "y = iris.target"
   ]
  },
  {
   "cell_type": "code",
   "execution_count": 2,
   "metadata": {},
   "outputs": [],
   "source": [
    "# Create a Random Forest classifier\n",
    "rfc = RandomForestClassifier()\n",
    "# Define the hyperparameter distribution to sample from\n",
    "param_dist = {'n_estimators': [100, 200, 300, 400, 500], \n",
    "              'max_depth': [3, 5, 7, 9, 11, 13, 15, None],\n",
    "              'min_samples_split': [2, 3, 4, 5, 6, 7, 8, 9, 10], \n",
    "              'min_samples_leaf': [1, 2, 3, 4, 5, 6, 7, 8, 9, 10], \n",
    "              'bootstrap': [True, False],\n",
    "              'criterion': ['gini', 'entropy']}"
   ]
  },
  {
   "cell_type": "code",
   "execution_count": 5,
   "metadata": {},
   "outputs": [
    {
     "name": "stdout",
     "output_type": "stream",
     "text": [
      "Best hyperparameters: {'n_estimators': 100, 'min_samples_split': 8, 'min_samples_leaf': 8, 'max_depth': 11, 'criterion': 'gini', 'bootstrap': True}\n",
      "Best accuracy score: 0.96\n"
     ]
    }
   ],
   "source": [
    "# Perform randomized search with 5-fold cross-validation and the accuracy score as the scoring metric\n",
    "random_search = RandomizedSearchCV(rfc, param_distributions = param_dist) \n",
    "random_search.fit(X, y)\n",
    "# Print the best hyperparameters and the corresponding accuracy score\n",
    "print(\"Best hyperparameters:\", random_search.best_params_)\n",
    "print(\"Best accuracy score:\", random_search.best_score_)"
   ]
  },
  {
   "cell_type": "markdown",
   "metadata": {},
   "source": [
    "<h2>2. GridSearchCV</h2>"
   ]
  },
  {
   "cell_type": "code",
   "execution_count": 6,
   "metadata": {},
   "outputs": [],
   "source": [
    "from sklearn.model_selection import GridSearchCV \n",
    "from sklearn.tree import DecisionTreeClassifier\n",
    "from sklearn.datasets import load_iris\n",
    "\n",
    "# Load iris dataset\n",
    "iris = load_iris() \n",
    "X = iris.data\n",
    "y = iris.target"
   ]
  },
  {
   "cell_type": "code",
   "execution_count": 7,
   "metadata": {},
   "outputs": [
    {
     "name": "stdout",
     "output_type": "stream",
     "text": [
      "Best hyperparameters: {'criterion': 'gini', 'max_depth': 3, 'min_samples_leaf': 1, 'min_samples_split': 3}\n",
      "Best accuracy score: 0.9733333333333334\n"
     ]
    }
   ],
   "source": [
    "# Create a Decision Tree classifier\n",
    "dtc = DecisionTreeClassifier()\n",
    "# Define the hyperparameter grid to search over\n",
    "param_grid = {'criterion': ['gini', 'entropy'], \n",
    "              'max_depth': [3, 4, 5, 6],\n",
    "              'min_samples_split': [2, 3, 4, 5],\n",
    "              'min_samples_leaf': [1, 2, 3, 4]}\n",
    "# Perform grid search with 5-fold cross-validation and the accuracy score as the scoring metric\n",
    "grid_search = GridSearchCV(dtc, param_grid, cv = 5, scoring = 'accuracy') \n",
    "grid_search.fit(X, y)\n",
    "# Print the best hyperparameters and the corresponding accuracy score\n",
    "print(\"Best hyperparameters:\", grid_search.best_params_) \n",
    "print(\"Best accuracy score:\", grid_search.best_score_)"
   ]
  }
 ],
 "metadata": {
  "kernelspec": {
   "display_name": "Python 3",
   "language": "python",
   "name": "python3"
  },
  "language_info": {
   "codemirror_mode": {
    "name": "ipython",
    "version": 3
   },
   "file_extension": ".py",
   "mimetype": "text/x-python",
   "name": "python",
   "nbconvert_exporter": "python",
   "pygments_lexer": "ipython3",
   "version": "3.10.6"
  },
  "orig_nbformat": 4
 },
 "nbformat": 4,
 "nbformat_minor": 2
}
